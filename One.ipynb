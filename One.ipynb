{
 "cells": [
  {
   "cell_type": "markdown",
   "metadata": {},
   "source": [
    "## WAP to print welcome message"
   ]
  },
  {
   "cell_type": "code",
   "execution_count": 1,
   "metadata": {},
   "outputs": [
    {
     "name": "stdout",
     "output_type": "stream",
     "text": [
      "Welcome to python programming\n"
     ]
    }
   ],
   "source": [
    "print(\"Welcome to python programming\")"
   ]
  },
  {
   "cell_type": "markdown",
   "metadata": {},
   "source": [
    "## WAP to add two numbers"
   ]
  },
  {
   "cell_type": "code",
   "execution_count": 4,
   "metadata": {},
   "outputs": [
    {
     "name": "stdout",
     "output_type": "stream",
     "text": [
      "Enter number 1: 28\n",
      "Enter number 2: 73\n",
      "Number 1 is:  28\n",
      "Number 2 is:  73\n",
      "The sum of two numbers is: 101\n"
     ]
    }
   ],
   "source": [
    "x = int(input(\"Enter number 1: \"))\n",
    "y = int(input(\"Enter number 2: \"))\n",
    "print(\"Number 1 is: \",x)\n",
    "print(\"Number 2 is: \",y)\n",
    "sum = x + y\n",
    "print(\"The sum of two numbers is:\",sum)"
   ]
  },
  {
   "cell_type": "markdown",
   "metadata": {},
   "source": [
    "## WAP to greet the user with first, middle and last name"
   ]
  },
  {
   "cell_type": "code",
   "execution_count": 8,
   "metadata": {},
   "outputs": [
    {
     "name": "stdout",
     "output_type": "stream",
     "text": [
      "Enter your first name: K\n",
      "Enter your middle name: \n",
      "Enter your last name: Abishek\n",
      "Welcome K  Abishek\n"
     ]
    }
   ],
   "source": [
    "fname = input(\"Enter your first name: \")\n",
    "mname = input(\"Enter your middle name: \")\n",
    "lname = input(\"Enter your last name: \")\n",
    "print(\"Welcome \" + fname +\" \" + mname +\" \" +lname)"
   ]
  }
 ],
 "metadata": {
  "kernelspec": {
   "display_name": "Python 3",
   "language": "python",
   "name": "python3"
  },
  "language_info": {
   "codemirror_mode": {
    "name": "ipython",
    "version": 3
   },
   "file_extension": ".py",
   "mimetype": "text/x-python",
   "name": "python",
   "nbconvert_exporter": "python",
   "pygments_lexer": "ipython3",
   "version": "3.8.5"
  }
 },
 "nbformat": 4,
 "nbformat_minor": 4
}
