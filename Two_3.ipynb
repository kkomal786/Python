{
 "cells": [
  {
   "cell_type": "markdown",
   "metadata": {},
   "source": [
    "## WAP to check whether the character is a vowel or consonant"
   ]
  },
  {
   "cell_type": "code",
   "execution_count": null,
   "metadata": {},
   "outputs": [],
   "source": [
    "q = input(\"Enter a character\")\n",
    "if(q=='a' or q=='e' or q=='i' or q=='o' or q=='u'):\n",
    "    print(q, \"is a vowel\")\n",
    "elif(q=='A' or q=='E' or q=='I' or q=='O' or q=='U'):\n",
    "    print(q, \"is a vowel\")\n",
    "else:\n",
    "    print(q, \"is a consonant\")"
   ]
  },
  {
   "cell_type": "code",
   "execution_count": null,
   "metadata": {},
   "outputs": [],
   "source": []
  }
 ],
 "metadata": {
  "kernelspec": {
   "display_name": "Python 3",
   "language": "python",
   "name": "python3"
  },
  "language_info": {
   "codemirror_mode": {
    "name": "ipython",
    "version": 3
   },
   "file_extension": ".py",
   "mimetype": "text/x-python",
   "name": "python",
   "nbconvert_exporter": "python",
   "pygments_lexer": "ipython3",
   "version": "3.8.5"
  }
 },
 "nbformat": 4,
 "nbformat_minor": 4
}
