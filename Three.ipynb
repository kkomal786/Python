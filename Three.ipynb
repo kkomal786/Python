{
  "nbformat": 4,
  "nbformat_minor": 0,
  "metadata": {
    "colab": {
      "name": "K.Komal_1140_pp",
      "provenance": [],
      "collapsed_sections": []
    },
    "kernelspec": {
      "name": "python3",
      "display_name": "Python 3"
    }
  },
  "cells": [
    {
      "cell_type": "code",
      "metadata": {
        "id": "B6xGitLKh85v"
      },
      "source": [
        "## WAP to demonstrate while loop with else statement\r\n",
        "n = 1\r\n",
        "while(n < 11):\r\n",
        "  print(n)\r\n",
        "  n+=1\r\n",
        "else:\r\n",
        "  print(\"Counting 1 to 10 reached\")"
      ],
      "execution_count": null,
      "outputs": []
    },
    {
      "cell_type": "code",
      "metadata": {
        "id": "2b6Gol9AiWS8"
      },
      "source": [
        "## WAP to print first five even numbers using break statement\r\n",
        "for n in range(1,14):\r\n",
        "  if(n % 2 == 0):\r\n",
        "    print(n)\r\n",
        "  elif(n >10):\r\n",
        "    break"
      ],
      "execution_count": null,
      "outputs": []
    },
    {
      "cell_type": "code",
      "metadata": {
        "id": "UddPie2U1Aou"
      },
      "source": [
        "## WAP to print first four even numbers using continue statement\r\n",
        "for n in range(1,9):\r\n",
        "  if(n % 2 != 0):\r\n",
        "    continue\r\n",
        "  print(n)"
      ],
      "execution_count": null,
      "outputs": []
    },
    {
      "cell_type": "code",
      "metadata": {
        "id": "5nMFvYLb257g"
      },
      "source": [
        "## WAP to demonstrate pass statement\r\n",
        "for i in range(1,10):\r\n",
        "  if(i == 5):\r\n",
        "    pass\r\n",
        "  else:\r\n",
        "    print(i)"
      ],
      "execution_count": null,
      "outputs": []
    },
    {
      "cell_type": "code",
      "metadata": {
        "id": "OyoxMkKD4LRj"
      },
      "source": [
        "## WAP to calculate the length of a string\r\n",
        "s = \"MRU\"\r\n",
        "len(s)"
      ],
      "execution_count": null,
      "outputs": []
    },
    {
      "cell_type": "code",
      "metadata": {
        "id": "rCEzm_2C5Sjt"
      },
      "source": [
        "## WAP to count the number of characters (character frequency) in a string\r\n",
        "s = \"MANAV RACHNA UNIVERSITY\"\r\n",
        "s.count(\"A\")"
      ],
      "execution_count": null,
      "outputs": []
    },
    {
      "cell_type": "code",
      "metadata": {
        "id": "Vr11C7Xp5nm7"
      },
      "source": [
        "## WAP to get a string made of the first 2 and the last 2 chars from a given a string. If the string length is less than 2, return instead of the empty string.\r\n",
        "s = \"University\"\r\n",
        "if(len(s) == 2):\r\n",
        "  print(s)\r\n",
        "else:\r\n",
        "  str = s[0]+s[1]+s[-1]+s[-2]\r\n",
        "  print(str)"
      ],
      "execution_count": null,
      "outputs": []
    },
    {
      "cell_type": "code",
      "metadata": {
        "colab": {
          "base_uri": "https://localhost:8080/"
        },
        "id": "LJgaiMEQ6SaP",
        "outputId": "38137dbd-e8bd-4d33-af60-2658e01dac9f"
      },
      "source": [
        "## WAP to get a string from a given string where all occurrences of its first char have been changed to '$', except the first char itself\r\n",
        "s = \"ENJOY YOUR LIFE\"\r\n",
        "str = s[0]\r\n",
        "str1 = s.replace(str, \"$\")\r\n",
        "print(str+str1[1:])"
      ],
      "execution_count": null,
      "outputs": [
        {
          "output_type": "stream",
          "text": [
            "ENJOY YOUR LIF$\n"
          ],
          "name": "stdout"
        }
      ]
    },
    {
      "cell_type": "code",
      "metadata": {
        "colab": {
          "base_uri": "https://localhost:8080/"
        },
        "id": "T6WuNyzE7vsw",
        "outputId": "b0abd776-c15b-4bd5-bad7-4f6660aa1410"
      },
      "source": [
        "## WAP to get a single string from two given strings, separated by a space and swap the first two characters of each string. \r\n",
        "first = \"Kalpana\"\r\n",
        "second = \"Chawla\"\r\n",
        "full = first+ \" \" +second\r\n",
        "print(full)\r\n",
        "a = second[:2]+first[2:]\r\n",
        "b = first[:2]+second[2:]\r\n",
        "print(a+ \" \"+b)"
      ],
      "execution_count": null,
      "outputs": [
        {
          "output_type": "stream",
          "text": [
            "Kalpana Chawla\n",
            "Chlpana Kaawla\n"
          ],
          "name": "stdout"
        }
      ]
    },
    {
      "cell_type": "code",
      "metadata": {
        "id": "1txiRKzE-3oR",
        "colab": {
          "base_uri": "https://localhost:8080/"
        },
        "outputId": "f7bed300-8140-4124-e254-6e5a64d7688a"
      },
      "source": [
        "## WAP to add 'ing' at the end of a given string (length should be at least 3). If the given string already ends with 'ing' then add 'ly' instead. If the string length of the given string is less than 3, leave it unchanged.\r\n",
        "a = input(\"Enter a string: \")\r\n",
        "if(len(a) > 2):\r\n",
        "  if(a[-3:] == \"ing\"):\r\n",
        "    x = a[:-3]+\"ly\"\r\n",
        "    print(x)\r\n",
        "  else:\r\n",
        "    x = a+\"ing\"\r\n",
        "    print(x)"
      ],
      "execution_count": 1,
      "outputs": [
        {
          "output_type": "stream",
          "text": [
            "Enter a string: sleep\n",
            "sleeping\n"
          ],
          "name": "stdout"
        }
      ]
    }
  ]
}