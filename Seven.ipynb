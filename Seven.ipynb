{
 "cells": [
  {
   "cell_type": "markdown",
   "metadata": {},
   "source": [
    "## WAP to multiply two numbers using function"
   ]
  },
  {
   "cell_type": "code",
   "execution_count": 9,
   "metadata": {},
   "outputs": [
    {
     "name": "stdout",
     "output_type": "stream",
     "text": [
      "The product of the the two numbers is:  30\n"
     ]
    }
   ],
   "source": [
    "def mult(a, b):\n",
    "    print(\"The product of the the two numbers is: \",a*b)\n",
    "    return\n",
    "mult(5,6)"
   ]
  },
  {
   "cell_type": "markdown",
   "metadata": {},
   "source": [
    "## WAP to add two numbers using function"
   ]
  },
  {
   "cell_type": "code",
   "execution_count": 10,
   "metadata": {},
   "outputs": [
    {
     "name": "stdout",
     "output_type": "stream",
     "text": [
      "The sum of two numbers is:  8\n"
     ]
    }
   ],
   "source": [
    "def add(a,b):\n",
    "    print(\"The sum of two numbers is: \", a+b)\n",
    "    return\n",
    "add(3,5)"
   ]
  },
  {
   "cell_type": "markdown",
   "metadata": {},
   "source": [
    "## Calculate the factorial of a number using function"
   ]
  },
  {
   "cell_type": "code",
   "execution_count": 35,
   "metadata": {},
   "outputs": [
    {
     "name": "stdout",
     "output_type": "stream",
     "text": [
      "The factorial of the number is:  40320\n"
     ]
    }
   ],
   "source": [
    "def fact(n):\n",
    "    if(n==1):\n",
    "        return n\n",
    "    else:\n",
    "        return  n*fact(n-1)\n",
    "print(\"The factorial of the number is: \",fact(8))"
   ]
  },
  {
   "cell_type": "markdown",
   "metadata": {},
   "source": [
    "## Create sequence of fibonacci series using function"
   ]
  },
  {
   "cell_type": "code",
   "execution_count": 67,
   "metadata": {},
   "outputs": [
    {
     "name": "stdout",
     "output_type": "stream",
     "text": [
      "0 1 1 2 3 "
     ]
    }
   ],
   "source": [
    "a = 0\n",
    "b = 1\n",
    "def fibo(n):\n",
    "    global a, b\n",
    "    if(n>0):\n",
    "        print(a,b,end = \" \")\n",
    "        for i in range(2,n):\n",
    "            c = a+b                     \n",
    "            print(c,end=\" \")\n",
    "            a = b\n",
    "            b = c\n",
    "    return\n",
    "fibo(5)"
   ]
  },
  {
   "cell_type": "markdown",
   "metadata": {},
   "source": [
    "## Write a program to swapping of two numbers using functions. \n",
    "\n",
    "\n",
    "\n",
    "\n",
    "\n",
    "\n",
    "\n",
    " \n",
    "\n",
    "\n",
    "\n",
    "\n",
    " "
   ]
  },
  {
   "cell_type": "code",
   "execution_count": 43,
   "metadata": {},
   "outputs": [
    {
     "name": "stdout",
     "output_type": "stream",
     "text": [
      "The numbers before swapping are:  10 20\n",
      "After swapping:  (20, 10)\n"
     ]
    }
   ],
   "source": [
    "t = 0\n",
    "def swap(n,r):\n",
    "    print(\"The numbers before swapping are: \",n,r)\n",
    "    t = n\n",
    "    n = r\n",
    "    r = t\n",
    "    return n,r\n",
    "print(\"After swapping: \",swap(10,20))"
   ]
  },
  {
   "cell_type": "markdown",
   "metadata": {},
   "source": [
    "## Write a function to find the HCF of some given numbers. "
   ]
  },
  {
   "cell_type": "code",
   "execution_count": 37,
   "metadata": {},
   "outputs": [
    {
     "name": "stdout",
     "output_type": "stream",
     "text": [
      "The hcf of two numbers is:  1\n"
     ]
    }
   ],
   "source": [
    "def hcf(n,l):\n",
    "    if(n==l):\n",
    "        return n \n",
    "    elif(n==0):\n",
    "        return l\n",
    "    elif(l==0):\n",
    "        return n\n",
    "    elif(n>l):\n",
    "        return hcf(n-l,l)\n",
    "    return hcf(n,l-n)\n",
    "print(\"The hcf of two numbers is: \",hcf(5,2))"
   ]
  },
  {
   "cell_type": "markdown",
   "metadata": {},
   "source": [
    "## Write a function to find the ASCII value of the character"
   ]
  },
  {
   "cell_type": "code",
   "execution_count": 76,
   "metadata": {},
   "outputs": [
    {
     "name": "stdout",
     "output_type": "stream",
     "text": [
      "The ASCII value for the character, a is:  97\n"
     ]
    }
   ],
   "source": [
    "def ascii(a):\n",
    "    print(\"The ASCII value for the character,\",a,\"is: \",ord(a))\n",
    "    return\n",
    "ascii(\"a\")"
   ]
  },
  {
   "cell_type": "markdown",
   "metadata": {},
   "source": [
    "## WAP that demonstrates the ( built in function)  mathematical functions. "
   ]
  },
  {
   "cell_type": "code",
   "execution_count": 82,
   "metadata": {},
   "outputs": [
    {
     "name": "stdout",
     "output_type": "stream",
     "text": [
      "120\n",
      "1\n",
      "5.0\n",
      "27.0\n",
      "3.141592653589793\n"
     ]
    }
   ],
   "source": [
    "import math\n",
    "print(math.factorial(5))\n",
    "print(math.gcd(3,5))\n",
    "print(math.sqrt(25))\n",
    "print(math.pow(3,3))\n",
    "print(math.pi)"
   ]
  },
  {
   "cell_type": "markdown",
   "metadata": {},
   "source": [
    "## WAP that demonstrates the ( built in function)  Date & Time functions. \n"
   ]
  },
  {
   "cell_type": "code",
   "execution_count": 21,
   "metadata": {},
   "outputs": [
    {
     "name": "stdout",
     "output_type": "stream",
     "text": [
      "2021-03-03 21:46:54.241179\n",
      "2021-03-03\n",
      "2021\n",
      "3\n",
      "3\n"
     ]
    }
   ],
   "source": [
    "from datetime import date\n",
    "print(datetime.datetime.now())\n",
    "print(datetime.date.today())\n",
    "print(date.today().year)\n",
    "print(date.today().month)\n",
    "print(date.today().day)"
   ]
  },
  {
   "cell_type": "markdown",
   "metadata": {},
   "source": [
    "## WAP that demonstrates Required arguments. "
   ]
  },
  {
   "cell_type": "code",
   "execution_count": 23,
   "metadata": {},
   "outputs": [
    {
     "name": "stdout",
     "output_type": "stream",
     "text": [
      "Good morning\n"
     ]
    }
   ],
   "source": [
    "def greet(a):\n",
    "    print(a)\n",
    "    return\n",
    "greet(\"Good morning\")"
   ]
  },
  {
   "cell_type": "markdown",
   "metadata": {},
   "source": [
    "## WAP that demonstrates keyword arguments."
   ]
  },
  {
   "cell_type": "code",
   "execution_count": 27,
   "metadata": {},
   "outputs": [
    {
     "name": "stdout",
     "output_type": "stream",
     "text": [
      "School name:  KV\n",
      "College name:  MRU\n"
     ]
    }
   ],
   "source": [
    "def edu(sch,coll):\n",
    "    print(\"School name: \",sch)\n",
    "    print(\"College name: \",coll)\n",
    "    return\n",
    "edu(sch=\"KV\", coll=\"MRU\")"
   ]
  },
  {
   "cell_type": "markdown",
   "metadata": {},
   "source": [
    "## WAP that demonstrates Default arguments. "
   ]
  },
  {
   "cell_type": "code",
   "execution_count": 41,
   "metadata": {},
   "outputs": [
    {
     "name": "stdout",
     "output_type": "stream",
     "text": [
      "School name:  KV\n",
      "College name:  DU\n"
     ]
    }
   ],
   "source": [
    "def edu(sch, coll=\"DU\"):\n",
    "    print(\"School name: \",sch)\n",
    "    print(\"College name: \",coll)\n",
    "    return\n",
    "edu(\"KV\")"
   ]
  },
  {
   "cell_type": "markdown",
   "metadata": {},
   "source": [
    "## WAP that demonstrates Variable –length arguments. "
   ]
  },
  {
   "cell_type": "code",
   "execution_count": 79,
   "metadata": {},
   "outputs": [
    {
     "name": "stdout",
     "output_type": "stream",
     "text": [
      "Breakfast avilable:  Dosa\n",
      "Dinner available:  Rajma-chawal Roti -dal\n"
     ]
    }
   ],
   "source": [
    "def  food(bk,*dinner):\n",
    "    print(\"Breakfast avilable: \",bk)\n",
    "    print(\"Dinner available: \",*dinner)\n",
    "    return\n",
    "food(\"Dosa\", \"Rajma-chawal\", \"Roti -dal\")"
   ]
  },
  {
   "cell_type": "code",
   "execution_count": null,
   "metadata": {},
   "outputs": [],
   "source": []
  }
 ],
 "metadata": {
  "kernelspec": {
   "display_name": "Python 3",
   "language": "python",
   "name": "python3"
  },
  "language_info": {
   "codemirror_mode": {
    "name": "ipython",
    "version": 3
   },
   "file_extension": ".py",
   "mimetype": "text/x-python",
   "name": "python",
   "nbconvert_exporter": "python",
   "pygments_lexer": "ipython3",
   "version": "3.8.5"
  }
 },
 "nbformat": 4,
 "nbformat_minor": 4
}
